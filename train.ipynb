{
 "cells": [
  {
   "cell_type": "markdown",
   "metadata": {
    "id": "6P6W34OQuaEO"
   },
   "source": [
    "## README\n",
    "自定义Vit模型，受限于硬件、数据集及时间，只复现了模型架构、并做了少许训练，超参完全按照ViT paper中base模型设置"
   ]
  },
  {
   "cell_type": "code",
   "execution_count": null,
   "metadata": {
    "id": "hcgyn3yOubv9"
   },
   "outputs": [
    {
     "ename": "",
     "evalue": "",
     "output_type": "error",
     "traceback": [
      "\u001b[1;31m内核无法启动，因为 Python 环境“torch_env (Python -1.-1.-1)”不再可用。请考虑选择另一个内核或刷新 Python 环境列表。"
     ]
    }
   ],
   "source": [
    "from going_modular import data_setup, model_builder, engine, utils\n",
    "from torchvision import transforms\n",
    "import torch\n",
    "from torch import nn\n",
    "import torchvision\n",
    "from torchinfo import summary\n",
    "import matplotlib.pyplot as plt\n",
    "\n",
    "DEVICE=\"cuda\" if torch.cuda.is_available() else \"cpu\"\n",
    "print(f\"RUNNING ON {DEVICE} \")\n",
    "BATCH_SIZE = 1024\n",
    "\n",
    "\n",
    "\n",
    "# dataloader\n",
    "transform = transforms.Compose(\n",
    "    [\n",
    "        transforms.Resize((224, 224)),\n",
    "        transforms.ToTensor(),\n",
    "    ]\n",
    ")\n",
    "train_dataloader, test_dataloader, class_names = data_setup.create_dataloaders(\n",
    "    train_dir=\"data/pizza_steak_sushi/train/\",\n",
    "    test_dir=\"data/pizza_steak_sushi/test/\",\n",
    "    train_transform=transform,\n",
    "    test_transform=transform,\n",
    "    batch_size=BATCH_SIZE\n",
    ")\n",
    "\n",
    "class_names"
   ]
  },
  {
   "cell_type": "code",
   "execution_count": null,
   "metadata": {
    "id": "Ma30odckubyu"
   },
   "outputs": [],
   "source": [
    "image_batch, label_batch = next(iter(train_dataloader))\n",
    "image, label = image_batch[0], label_batch[0]\n",
    "image.shape, label"
   ]
  },
  {
   "cell_type": "code",
   "execution_count": null,
   "metadata": {
    "id": "aOyQWX4Eub1S"
   },
   "outputs": [],
   "source": [
    "# test image is currect\n",
    "image_permuted = image.permute(1,2,0)\n",
    "plt.imshow(image_permuted)\n",
    "plt.title(class_names[label])\n",
    "plt.axis(False)"
   ]
  },
  {
   "cell_type": "code",
   "execution_count": null,
   "metadata": {
    "id": "YEUcyRZQub4G"
   },
   "outputs": [],
   "source": [
    "# define patches\n",
    "image_size = 224\n",
    "patch_size = 16\n",
    "num_of_patches = image_size / patch_size\n",
    "assert image_size % patch_size == 0, \"Image size must be divisible by patch size\"\n",
    "# plot\n",
    "fig, axs = plt.subplots(\n",
    "    nrows=image_size // patch_size,\n",
    "    ncols=image_size // patch_size,\n",
    "    figsize=(patch_size, patch_size),\n",
    ")\n",
    "\n",
    "for idx_r, patch_height in enumerate(range(0, image_size, patch_size)):\n",
    "    for idx_c, patch_width in enumerate(range(0, image_size, patch_size)):\n",
    "        axs[idx_r, idx_c].imshow(\n",
    "            image_permuted[\n",
    "                patch_height : patch_height + patch_size,\n",
    "                patch_width : patch_width + patch_size,\n",
    "                :,\n",
    "            ]\n",
    "        )\n",
    "        axs[idx_r, idx_c].set_xticks([])\n",
    "        axs[idx_r, idx_c].set_yticks([])\n",
    "        axs[idx_r, idx_c].set_ylabel(idx_r + 1)\n",
    "        axs[idx_r, idx_c].set_xlabel(idx_c + 1)\n",
    "        axs[idx_r, idx_c].label_outer()"
   ]
  },
  {
   "cell_type": "code",
   "execution_count": null,
   "metadata": {
    "id": "hqWgZ9Qpub6r"
   },
   "outputs": [],
   "source": [
    "# model define\n",
    "model_vit = model_builder.ViT()\n",
    "\n",
    "print(f\"model name is [{model_vit.__class__.__name__}]\")\n",
    "summary(\n",
    "    model=model_vit,\n",
    "    input_size=(1, 3, 224, 224),  # (batch_size, num_patches, embedding_dimension)\n",
    "    col_names=[\"input_size\", \"output_size\", \"num_params\", \"trainable\"],\n",
    "    col_width=20,\n",
    "    row_settings=[\"var_names\"],\n",
    ")\n"
   ]
  },
  {
   "cell_type": "code",
   "execution_count": null,
   "metadata": {
    "id": "B2BBcmRlub9K"
   },
   "outputs": [],
   "source": [
    "# writer\n",
    "writer = utils.create_summary_writer(\n",
    "    experiment_name=\"VIT\", model_name=model_vit.__class__.__name__\n",
    ")"
   ]
  },
  {
   "cell_type": "code",
   "execution_count": null,
   "metadata": {
    "id": "VUYOQB4Sub_f"
   },
   "outputs": [],
   "source": [
    "from going_modular import engine\n",
    "\n",
    "LEARNING_RATE = 1e-4\n",
    "EPOCHS=150\n",
    "\n",
    "optimizer = torch.optim.Adam(\n",
    "    params=model_vit.parameters(),\n",
    "    lr=LEARNING_RATE,\n",
    "    betas=(0.9, 0.999),\n",
    ")\n",
    "loss_fn = torch.nn.CrossEntropyLoss()\n",
    "\n",
    "model_vit = torch.compile(model=model_vit)\n",
    "results = engine.train(model=model_vit,\n",
    "                       train_dataloader=train_dataloader,\n",
    "                       test_dataloader=test_dataloader,\n",
    "                       optimizer=optimizer,\n",
    "                       loss_fn=loss_fn,\n",
    "                       epochs=EPOCHS,\n",
    "                       device=DEVICE,\n",
    "                       writer=writer)"
   ]
  },
  {
   "cell_type": "code",
   "execution_count": null,
   "metadata": {
    "id": "ashLn58VucCE"
   },
   "outputs": [],
   "source": [
    "# save model\n",
    "from going_modular import prediction\n",
    "prediction.plot_loss_curves(results)\n",
    "utils.save_model(model=model_vit,target_dir=\"modelzoo\",model_name=\"VitBaseTrainEnd2End.pth\")"
   ]
  },
  {
   "cell_type": "code",
   "execution_count": null,
   "metadata": {
    "id": "6vQh202wucH0"
   },
   "outputs": [],
   "source": []
  }
 ],
 "metadata": {
  "colab": {
   "provenance": [],
   "toc_visible": true
  },
  "kernelspec": {
   "display_name": "torch_env",
   "language": "python",
   "name": "python3"
  },
  "language_info": {
   "codemirror_mode": {
    "name": "ipython",
    "version": 3
   },
   "file_extension": ".py",
   "mimetype": "text/x-python",
   "name": "python",
   "nbconvert_exporter": "python",
   "pygments_lexer": "ipython3",
   "version": "-1.-1.-1"
  }
 },
 "nbformat": 4,
 "nbformat_minor": 0
}
